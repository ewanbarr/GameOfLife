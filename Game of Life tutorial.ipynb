{
 "cells": [
  {
   "cell_type": "markdown",
   "metadata": {},
   "source": [
    "# Optimising Python using Conway's Game of Life\n",
    "\n",
    "In this tutorial we look at some techniques for optimising Python code for speed. To do so we will use Conway's Game of Life (GoL) as a test case. The GoL is a cellular automaton that obeys four simple rules:\n",
    "\n",
    "1. Any live cell with fewer than two live neighbours dies, as if caused by underpopulation.\n",
    "2. Any live cell with two or three live neighbours lives on to the next generation.\n",
    "3. Any live cell with more than three live neighbours dies, as if by overpopulation.\n",
    "4. Any dead cell with exactly three live neighbours becomes a live cell, as if \n",
    "\n",
    "To implement the GoL we will require two basic peices of code:\n",
    "- Code to find the number of live neighbours each cell has\n",
    "- Code to update each cell based on its number of neighbours\n",
    "\n",
    "In psuedo code terms the GoL looks like:\n",
    "\n",
    "```\n",
    "create \"board\" of cells\n",
    "for generation in generations:\n",
    "    calculate number of live neighbours on each cell\n",
    "    update each cell based on the GoL rules\n",
    "```    \n"
   ]
  },
  {
   "cell_type": "code",
   "execution_count": null,
   "metadata": {},
   "outputs": [],
   "source": [
    "#The following code to enable animation embedding is borrowed from\n",
    "#http://jakevdp.github.io/blog/2013/05/12/embedding-matplotlib-animations/\n",
    "#Note: requires either ffmpeg or mencoder to run\n",
    "\n",
    "%pylab inline\n",
    "from tempfile import NamedTemporaryFile\n",
    "from IPython.display import HTML\n",
    "from matplotlib import animation\n",
    "\n",
    "VIDEO_TAG = \"\"\"<video controls>\n",
    " <source src=\"data:video/x-m4v;base64,{0}\" type=\"video/mp4\">\n",
    " Your browser does not support the video tag.\n",
    "</video>\"\"\"\n",
    "\n",
    "def anim_to_html(anim):\n",
    "    if not hasattr(anim, '_encoded_video'):\n",
    "        with NamedTemporaryFile(suffix='.mp4') as f:\n",
    "            anim.save(f.name, fps=20, extra_args=['-vcodec', 'libx264'])\n",
    "            video = open(f.name, \"rb\").read()\n",
    "        anim._encoded_video = video.encode(\"base64\")\n",
    "    \n",
    "    return VIDEO_TAG.format(anim._encoded_video)\n",
    "\n",
    "def display_animation(anim):\n",
    "    plt.close(anim._fig)\n",
    "    return HTML(anim_to_html(anim))"
   ]
  },
  {
   "cell_type": "markdown",
   "metadata": {},
   "source": [
    "## Test harness"
   ]
  },
  {
   "cell_type": "code",
   "execution_count": null,
   "metadata": {},
   "outputs": [],
   "source": [
    "def game_of_life(board, \n",
    "                 niterations,\n",
    "                 find_neighbours_func, \n",
    "                 update_board_func\n",
    "                ):\n",
    "    #capture what the initial board looks like\n",
    "    images = [[plt.imshow(board, interpolation='nearest', cmap='binary')]]\n",
    "    #loop through niterations generations of the game\n",
    "    for _ in range(niterations):\n",
    "        neighbours = find_neighbours_func(board)\n",
    "        board = update_board_func(board, neighbours)\n",
    "        #plot the board after each generation\n",
    "        images.append([plt.imshow(board, interpolation='nearest', cmap='binary')])\n",
    "    ani = animation.ArtistAnimation(plt.gcf(), images, interval=5, blit=True, repeat=False)\n",
    "    return display_animation(ani)\n",
    "\n",
    "#To give a standard speed tests, all codes will process the test board:\n",
    "test_board = np.zeros([300,300], dtype='int32')\n",
    "\n",
    "#As a test the following can be used to generate an input\n",
    "display_board = lambda: np.random.randint(0, 2, [40,40], dtype='int32')\n",
    "\n",
    "def display_timings(result):\n",
    "    print \"Timing over {} loops\".format(result.loops)\n",
    "    print \"Best time: %.04f ms\"%(result.best*1000)\n",
    "    print \"Worst time: %.04f ms\"%(result.worst*1000)\n",
    "    print \"Mean time: %.04f ms\"%(np.mean(result.all_runs)*1000)\n",
    "    print \"First run: %.04f ms\"%(result.all_runs[0])\n",
    "    print \"Mean excluding first: %.04f ms\\n\"%(np.mean(result.all_runs[1:])*1000)\n",
    "    plt.plot(result.all_runs)\n",
    "    plt.xlabel(\"Run number\")\n",
    "    plt.ylabel(\"Time\")\n",
    " "
   ]
  },
  {
   "cell_type": "markdown",
   "metadata": {},
   "source": [
    "## Pure Python"
   ]
  },
  {
   "cell_type": "code",
   "execution_count": null,
   "metadata": {
    "collapsed": true
   },
   "outputs": [],
   "source": [
    "def find_neighbours_pp(board):\n",
    "    nrows, ncols = board.shape\n",
    "    neighbours = np.zeros_like(board)\n",
    "    for row in range(nrows):\n",
    "        for col in range(ncols):\n",
    "            for ii in [-1,0,1]:\n",
    "                for jj in [-1,0,1]:\n",
    "                    if ii==0 and jj==0:\n",
    "                        continue\n",
    "                    else:\n",
    "                        neighbours[row][col] += board[(row+ii)%nrows][(col+jj)%ncols]\n",
    "    return neighbours\n",
    "\n",
    "def update_board_pp(board, neighbours):\n",
    "    nrows, ncols = board.shape\n",
    "    for row in range(nrows):\n",
    "        for col in range(ncols):\n",
    "            if board[row][col] == 1:\n",
    "                if (neighbours[row][col] < 2) or (neighbours[row][col] > 3):\n",
    "                    board[row][col] = 0\n",
    "            else:\n",
    "                if (neighbours[row][col] == 3):\n",
    "                    board[row][col] = 1\n",
    "    return board"
   ]
  },
  {
   "cell_type": "code",
   "execution_count": null,
   "metadata": {},
   "outputs": [],
   "source": [
    "game_of_life(display_board(), 100, find_neighbours_pp, update_board_pp)"
   ]
  },
  {
   "cell_type": "code",
   "execution_count": null,
   "metadata": {},
   "outputs": [],
   "source": [
    "#Test speed\n",
    "fn_pp = %timeit -o -r 5 find_neighbours_pp(test_board)\n",
    "display_timings(fn_pp)\n",
    "ub_pp = %timeit -o -r 5 update_board_pp(test_board, test_board)\n",
    "display_timings(ub_pp)"
   ]
  },
  {
   "cell_type": "markdown",
   "metadata": {
    "collapsed": true
   },
   "source": [
    "## Pure Python + Numba "
   ]
  },
  {
   "cell_type": "code",
   "execution_count": null,
   "metadata": {
    "collapsed": true
   },
   "outputs": [],
   "source": [
    "from numba import jit\n",
    "\n",
    "@jit\n",
    "def find_neighbours_numba(board):\n",
    "    nrows, ncols = board.shape\n",
    "    neighbours = np.zeros_like(board)\n",
    "    for row in range(nrows):\n",
    "        for col in range(ncols):\n",
    "            for ii in [-1,0,1]:\n",
    "                for jj in [-1,0,1]:\n",
    "                    if ii==0 and jj==0:\n",
    "                        continue\n",
    "                    else:\n",
    "                        neighbours[row][col] += board[(row+ii)%nrows][(col+jj)%ncols]\n",
    "    return neighbours\n",
    "\n",
    "@jit\n",
    "def update_board_numba(board, neighbours):\n",
    "    nrows, ncols = board.shape\n",
    "    for row in range(nrows):\n",
    "        for col in range(ncols):\n",
    "            if board[row][col] == 1:\n",
    "                if (neighbours[row][col] < 2) or (neighbours[row][col] > 3):\n",
    "                    board[row][col] = 0\n",
    "            else:\n",
    "                if (neighbours[row][col] == 3):\n",
    "                    board[row][col] = 1\n",
    "    return board\n",
    "\n",
    "#to force precompilation we will call both functions here\n",
    "null = find_neighbours_numba(test_board)\n",
    "null = update_board_numba(test_board,test_board)"
   ]
  },
  {
   "cell_type": "code",
   "execution_count": null,
   "metadata": {},
   "outputs": [],
   "source": [
    "game_of_life(display_board(), 100, find_neighbours_numba, update_board_numba)"
   ]
  },
  {
   "cell_type": "code",
   "execution_count": null,
   "metadata": {},
   "outputs": [],
   "source": [
    "#Test speed\n",
    "fn_nb = %timeit -o -r 10 find_neighbours_numba(test_board)\n",
    "display_timings(fn_nb)\n",
    "ub_nb = %timeit -o -r 10 update_board_numba(test_board, test_board)\n",
    "display_timings(ub_nb)"
   ]
  },
  {
   "cell_type": "markdown",
   "metadata": {},
   "source": [
    "## NumPy"
   ]
  },
  {
   "cell_type": "code",
   "execution_count": null,
   "metadata": {
    "collapsed": true
   },
   "outputs": [],
   "source": [
    "def find_neighbours_numpy(board):\n",
    "    neighbours = np.zeros_like(board)\n",
    "    steps = [-1,0,1]\n",
    "    for a in steps:\n",
    "        for b in steps:\n",
    "            if (a,b) != (0,0):\n",
    "                neighbours += np.roll(np.roll(board,a,axis=0),b,axis=1)\n",
    "    return neighbours\n",
    "\n",
    "def update_board_numpy(board, neighbours):\n",
    "    set_zero_idxs = (board==1) & ((neighbours<2) | (neighbours>3))\n",
    "    set_one_idxs = (board!=1) & (neighbours==3)\n",
    "    board[set_zero_idxs] = 0\n",
    "    board[set_one_idxs] = 1\n",
    "    return board"
   ]
  },
  {
   "cell_type": "code",
   "execution_count": null,
   "metadata": {},
   "outputs": [],
   "source": [
    "game_of_life(display_board(), 100, find_neighbours_numpy, update_board_numpy)"
   ]
  },
  {
   "cell_type": "code",
   "execution_count": null,
   "metadata": {
    "scrolled": true
   },
   "outputs": [],
   "source": [
    "#Test speed\n",
    "fn_np = %timeit -o -r 30 find_neighbours_numpy(test_board)\n",
    "display_timings(fn_np)\n",
    "ub_np = %timeit -o -r 30 update_board_numpy(test_board, test_board)\n",
    "display_timings(ub_np)"
   ]
  },
  {
   "cell_type": "markdown",
   "metadata": {},
   "source": [
    "## Weave"
   ]
  },
  {
   "cell_type": "code",
   "execution_count": null,
   "metadata": {},
   "outputs": [],
   "source": [
    "import weave\n",
    "\n",
    "def find_neighbours_weave(board, force=0):\n",
    "    ny, nx = board.shape\n",
    "    neighbours = np.zeros_like(board)\n",
    "    code = \"\"\"\n",
    "    for (int ii=0; ii < ny; ++ii)\n",
    "    {\n",
    "        for (int jj=0; jj < nx; ++jj)\n",
    "        {\n",
    "            if ((ii==0) || (ii==ny-1) || (jj==0) || (jj==nx-1))\n",
    "            {\n",
    "                for (int kk=-1; kk<=1; ++kk)\n",
    "                {\n",
    "                    for (int ll=-1; ll<=1; ++ll)\n",
    "                    {\n",
    "                    if (!((kk==0) && (ll==0)))\n",
    "                        neighbours(ii,jj) += board((ii+kk)%ny,(jj+ll)%nx);\n",
    "                    }\n",
    "                }\n",
    "            }\n",
    "            else\n",
    "            {\n",
    "               for (int kk=-1; kk<=1; ++kk)\n",
    "                {\n",
    "                    for (int ll=-1; ll<=1; ++ll)\n",
    "                    {\n",
    "                        if (!((kk==0) && (ll==0)))\n",
    "                            neighbours(ii,jj) += board((ii+kk),(jj+ll));\n",
    "                    }\n",
    "                }\n",
    "            }\n",
    "        }\n",
    "    }\n",
    "    \"\"\"\n",
    "    weave.inline(code,['neighbours', 'board', 'nx', 'ny'],\n",
    "                 type_converters = weave.converters.blitz,\n",
    "                 compiler = 'gcc',\n",
    "                 force=force)\n",
    "    return neighbours\n",
    "\n",
    "#precompile\n",
    "null = find_neighbours_weave(test_board, force=1)"
   ]
  },
  {
   "cell_type": "code",
   "execution_count": null,
   "metadata": {},
   "outputs": [],
   "source": [
    "game_of_life(display_board(), 100, find_neighbours_weave, update_board_numpy)"
   ]
  },
  {
   "cell_type": "code",
   "execution_count": null,
   "metadata": {},
   "outputs": [],
   "source": [
    "#Test speed\n",
    "fn_weave = %timeit -o -r 30 find_neighbours_weave(test_board)\n",
    "display_timings(fn_weave)"
   ]
  },
  {
   "cell_type": "markdown",
   "metadata": {},
   "source": [
    "## Comparison"
   ]
  },
  {
   "cell_type": "code",
   "execution_count": null,
   "metadata": {},
   "outputs": [],
   "source": [
    "results = [fn_pp, fn_nb, fn_np, fn_weave]\n",
    "worsts = np.array([i.worst for i in results])\n",
    "\n",
    "fig = plt.figure()\n",
    "ax = fig.add_subplot(111)\n",
    "ind = np.arange(4)\n",
    "width = 1\n",
    "ax.set_xticks(ind + width / 2)\n",
    "ax.set_xticklabels(('Pure', 'Numba', 'NumPy', 'Weave'))\n",
    "rects1 = ax.bar(range(4), worsts, 0.8, color='b', log=True)\n",
    "plt.show()"
   ]
  },
  {
   "cell_type": "markdown",
   "metadata": {},
   "source": [
    "## NumPy vs. Weave scaling"
   ]
  },
  {
   "cell_type": "code",
   "execution_count": null,
   "metadata": {},
   "outputs": [],
   "source": [
    "np_results = []\n",
    "weave_results = []\n",
    "\n",
    "sizes = np.logspace(2,4,6).astype('int32')\n",
    "for size in sizes:\n",
    "    board = np.zeros([size,size],dtype='int32')\n",
    "    np_result = %timeit -o -r 5 find_neighbours_numpy(board)\n",
    "    np_results.append(np_result)\n",
    "    weave_result = %timeit -o -r 5 find_neighbours_weave(board)\n",
    "    weave_results.append(weave_result)\n"
   ]
  },
  {
   "cell_type": "code",
   "execution_count": null,
   "metadata": {},
   "outputs": [],
   "source": [
    "def plot_curve(results,label,colour):\n",
    "    best = [i.best for i in results]\n",
    "    worst = [i.worst for i in results]\n",
    "    plt.fill_between(sizes,worst,best,facecolor=colour,label=label)\n",
    "\n",
    "plot_curve(np_results,\"numpy\",\"b\")\n",
    "plot_curve(weave_results,\"weave\",\"g\")\n",
    "plt.legend()"
   ]
  },
  {
   "cell_type": "code",
   "execution_count": null,
   "metadata": {
    "collapsed": true
   },
   "outputs": [],
   "source": [
    "PATTERNS = {}\n",
    "\n",
    "PATTERNS[\"glider_gun\"] =\\\n",
    "[[0,0,0,0,0,0,0,0,0,0,0,0,0,0,0,0,0,0,0,0,0,0,0,0,1,0,0,0,0,0,0,0,0,0,0,0],\n",
    " [0,0,0,0,0,0,0,0,0,0,0,0,0,0,0,0,0,0,0,0,0,0,1,0,1,0,0,0,0,0,0,0,0,0,0,0],\n",
    " [0,0,0,0,0,0,0,0,0,0,0,0,1,1,0,0,0,0,0,0,1,1,0,0,0,0,0,0,0,0,0,0,0,0,1,1],\n",
    " [0,0,0,0,0,0,0,0,0,0,0,1,0,0,0,1,0,0,0,0,1,1,0,0,0,0,0,0,0,0,0,0,0,0,1,1],\n",
    " [1,1,0,0,0,0,0,0,0,0,1,0,0,0,0,0,1,0,0,0,1,1,0,0,0,0,0,0,0,0,0,0,0,0,0,0],\n",
    " [1,1,0,0,0,0,0,0,0,0,1,0,0,0,1,0,1,1,0,0,0,0,1,0,1,0,0,0,0,0,0,0,0,0,0,0],\n",
    " [0,0,0,0,0,0,0,0,0,0,1,0,0,0,0,0,1,0,0,0,0,0,0,0,1,0,0,0,0,0,0,0,0,0,0,0],\n",
    " [0,0,0,0,0,0,0,0,0,0,0,1,0,0,0,1,0,0,0,0,0,0,0,0,0,0,0,0,0,0,0,0,0,0,0,0],\n",
    " [0,0,0,0,0,0,0,0,0,0,0,0,1,1,0,0,0,0,0,0,0,0,0,0,0,0,0,0,0,0,0,0,0,0,0,0]]\n",
    "\n",
    "PATTERNS[\"diehard\"] = [[0, 0, 0, 0, 0, 0, 1, 0],\n",
    "           [1, 1, 0, 0, 0, 0, 0, 0],\n",
    "           [0, 1, 0, 0, 0, 1, 1, 1]]\n",
    "\n",
    "PATTERNS[\"boat\"] = [[1, 1, 0],\n",
    "        [1, 0, 1],\n",
    "        [0, 1, 0]]\n",
    "\n",
    "PATTERNS[\"r_pentomino\"] = [[0, 1, 1],\n",
    "               [1, 1, 0],\n",
    "               [0, 1, 0]]\n",
    "\n",
    "PATTERNS[\"beacon\"] = [[0, 0, 1, 1],\n",
    "          [0, 0, 1, 1],\n",
    "          [1, 1, 0, 0],\n",
    "          [1, 1, 0, 0]]\n",
    "\n",
    "PATTERNS[\"acorn\"] = [[0, 1, 0, 0, 0, 0, 0],\n",
    "         [0, 0, 0, 1, 0, 0, 0],\n",
    "         [1, 1, 0, 0, 1, 1, 1]]\n",
    "\n",
    "PATTERNS[\"spaceship\"] = [[0, 0, 1, 1, 0],\n",
    "             [1, 1, 0, 1, 1],\n",
    "             [1, 1, 1, 1, 0],\n",
    "             [0, 1, 1, 0, 0]]\n",
    "\n",
    "PATTERNS[\"block_switch_engine\"] = [[0, 0, 0, 0, 0, 0, 1, 0],\n",
    "                       [0, 0, 0, 0, 1, 0, 1, 1],\n",
    "                       [0, 0, 0, 0, 1, 0, 1, 0],\n",
    "                       [0, 0, 0, 0, 1, 0, 0, 0],\n",
    "                       [0, 0, 1, 0, 0, 0, 0, 0],\n",
    "                       [1, 0, 1, 0, 0, 0, 0, 0]]\n",
    "\n",
    "PATTERNS[\"glider\"] = [[1, 0, 0],\n",
    "          [0, 1, 1],\n",
    "          [1, 1, 0]]\n",
    "\n",
    "PATTERNS[\"pulsar\"] = [[0, 0, 0, 0, 0, 0, 0, 0, 0, 0, 0, 0, 0, 0, 0, 0, 0],\n",
    "          [0, 0, 0, 0, 0, 0, 0, 0, 0, 0, 0, 0, 0, 0, 0, 0, 0],\n",
    "          [0, 0, 0, 0, 1, 1, 1, 0, 0, 0, 1, 1, 1, 0, 0, 0, 0],\n",
    "          [0, 0, 0, 0, 0, 0, 0, 0, 0, 0, 0, 0, 0, 0, 0, 0, 0],\n",
    "          [0, 0, 1, 0, 0, 0, 0, 1, 0, 1, 0, 0, 0, 0, 1, 0, 0],\n",
    "          [0, 0, 1, 0, 0, 0, 0, 1, 0, 1, 0, 0, 0, 0, 1, 0, 0],\n",
    "          [0, 0, 1, 0, 0, 0, 0, 1, 0, 1, 0, 0, 0, 0, 1, 0, 0],\n",
    "          [0, 0, 0, 0, 1, 1, 1, 0, 0, 0, 1, 1, 1, 0, 0, 0, 0],\n",
    "          [0, 0, 0, 0, 0, 0, 0, 0, 0, 0, 0, 0, 0, 0, 0, 0, 0],\n",
    "          [0, 0, 0, 0, 1, 1, 1, 0, 0, 0, 1, 1, 1, 0, 0, 0, 0],\n",
    "          [0, 0, 1, 0, 0, 0, 0, 1, 0, 1, 0, 0, 0, 0, 1, 0, 0],\n",
    "          [0, 0, 1, 0, 0, 0, 0, 1, 0, 1, 0, 0, 0, 0, 1, 0, 0],\n",
    "          [0, 0, 1, 0, 0, 0, 0, 1, 0, 1, 0, 0, 0, 0, 1, 0, 0],\n",
    "          [0, 0, 0, 0, 0, 0, 0, 0, 0, 0, 0, 0, 0, 0, 0, 0, 0],\n",
    "          [0, 0, 0, 0, 1, 1, 1, 0, 0, 0, 1, 1, 1, 0, 0, 0, 0],\n",
    "          [0, 0, 0, 0, 0, 0, 0, 0, 0, 0, 0, 0, 0, 0, 0, 0, 0],\n",
    "          [0, 0, 0, 0, 0, 0, 0, 0, 0, 0, 0, 0, 0, 0, 0, 0, 0]]"
   ]
  },
  {
   "cell_type": "code",
   "execution_count": null,
   "metadata": {
    "collapsed": true
   },
   "outputs": [],
   "source": [
    "def init(size, pattern=None):\n",
    "    assert len(size) == 2, \"size parameter must be a 2-tuple\"\n",
    "    if pattern is None:\n",
    "        board = np.random.randint(0,2,size).astype('int32')\n",
    "    else:\n",
    "        pattern = np.asarray(pattern)\n",
    "        board = np.zeros(size,dtype='int32')\n",
    "        assert board.shape[0] > pattern.shape[0], \"pattern has more rows than board\"\n",
    "        assert board.shape[1] > pattern.shape[1], \"pattern has more columns than board\"\n",
    "        row_margin = (board.shape[0] - pattern.shape[0])/2\n",
    "        col_margin = (board.shape[1] - pattern.shape[1])/2\n",
    "        board[row_margin:row_margin+pattern.shape[0],col_margin:col_margin+pattern.shape[1]] = pattern\n",
    "    return board.astype('int32')"
   ]
  },
  {
   "cell_type": "code",
   "execution_count": null,
   "metadata": {
    "collapsed": true
   },
   "outputs": [],
   "source": [
    "board = init([100,100],PATTERNS['glider_gun'])"
   ]
  },
  {
   "cell_type": "code",
   "execution_count": null,
   "metadata": {
    "collapsed": true
   },
   "outputs": [],
   "source": [
    "game_of_life(board, 100, find_neighbours_weave, update_board_numpy)"
   ]
  },
  {
   "cell_type": "code",
   "execution_count": null,
   "metadata": {
    "collapsed": true
   },
   "outputs": [],
   "source": []
  },
  {
   "cell_type": "code",
   "execution_count": null,
   "metadata": {
    "collapsed": true
   },
   "outputs": [],
   "source": []
  }
 ],
 "metadata": {
  "anaconda-cloud": {},
  "kernelspec": {
   "display_name": "Python [conda env:py27]",
   "language": "python",
   "name": "conda-env-py27-py"
  },
  "language_info": {
   "codemirror_mode": {
    "name": "ipython",
    "version": 2
   },
   "file_extension": ".py",
   "mimetype": "text/x-python",
   "name": "python",
   "nbconvert_exporter": "python",
   "pygments_lexer": "ipython2",
   "version": "2.7.12"
  }
 },
 "nbformat": 4,
 "nbformat_minor": 2
}
